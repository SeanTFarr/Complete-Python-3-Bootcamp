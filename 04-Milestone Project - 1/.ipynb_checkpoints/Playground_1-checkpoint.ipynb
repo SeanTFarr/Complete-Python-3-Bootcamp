{
 "cells": [
  {
   "cell_type": "code",
   "execution_count": 1,
   "id": "aa3f7a19",
   "metadata": {},
   "outputs": [],
   "source": [
    "#display sample\n",
    "def display(row1, row2, row3):\n",
    "    print(row1)\n",
    "    print(row2)\n",
    "    print(row3)"
   ]
  },
  {
   "cell_type": "code",
   "execution_count": 2,
   "id": "f2694360",
   "metadata": {},
   "outputs": [],
   "source": [
    "a = [' ',' ',' ']\n",
    "b = [' ',' ',' ']\n",
    "c = [' ',' ',' ']"
   ]
  },
  {
   "cell_type": "code",
   "execution_count": 6,
   "id": "3eada8c9",
   "metadata": {},
   "outputs": [
    {
     "name": "stdout",
     "output_type": "stream",
     "text": [
      "[' ', ' ', ' ']\n",
      "[' ', 'X', ' ']\n",
      "[' ', ' ', ' ']\n"
     ]
    }
   ],
   "source": [
    "display(a, b, c)"
   ]
  },
  {
   "cell_type": "code",
   "execution_count": 5,
   "id": "89ab52a5",
   "metadata": {},
   "outputs": [],
   "source": [
    "b[1] = 'X'"
   ]
  },
  {
   "cell_type": "code",
   "execution_count": 8,
   "id": "d0af2037",
   "metadata": {},
   "outputs": [
    {
     "name": "stdout",
     "output_type": "stream",
     "text": [
      "Please enter a number: 2\n"
     ]
    }
   ],
   "source": [
    "result = int(input(\"Please enter a number: \"))"
   ]
  },
  {
   "cell_type": "code",
   "execution_count": 9,
   "id": "edd12db5",
   "metadata": {},
   "outputs": [
    {
     "data": {
      "text/plain": [
       "2"
      ]
     },
     "execution_count": 9,
     "metadata": {},
     "output_type": "execute_result"
    }
   ],
   "source": [
    "result"
   ]
  },
  {
   "cell_type": "code",
   "execution_count": 18,
   "id": "e9a5db7a",
   "metadata": {},
   "outputs": [],
   "source": [
    "# def user_choice():\n",
    "#     '''\n",
    "#     To input user numerical choice (1-10) \n",
    "#     and display it back as an integer\n",
    "#     '''\n",
    "#     choice = int(input(\"Please enter a number from 1 to 10: \"))\n",
    "    \n",
    "#     return choice"
   ]
  },
  {
   "cell_type": "code",
   "execution_count": 12,
   "id": "817dafb2",
   "metadata": {},
   "outputs": [
    {
     "name": "stdout",
     "output_type": "stream",
     "text": [
      "Please enter a number from 1 to 10: 1\n"
     ]
    }
   ],
   "source": [
    "# #this does not store the number\n",
    "# user_choice()"
   ]
  },
  {
   "cell_type": "code",
   "execution_count": 19,
   "id": "0b58a930",
   "metadata": {},
   "outputs": [
    {
     "name": "stdout",
     "output_type": "stream",
     "text": [
      "Please enter a number from 1 to 10: 3\n"
     ]
    }
   ],
   "source": [
    "# result = user_choice()"
   ]
  },
  {
   "cell_type": "code",
   "execution_count": 20,
   "id": "03d1937f",
   "metadata": {},
   "outputs": [
    {
     "data": {
      "text/plain": [
       "3"
      ]
     },
     "execution_count": 20,
     "metadata": {},
     "output_type": "execute_result"
    }
   ],
   "source": [
    "# result"
   ]
  },
  {
   "cell_type": "code",
   "execution_count": 21,
   "id": "8e14120f",
   "metadata": {},
   "outputs": [
    {
     "data": {
      "text/plain": [
       "int"
      ]
     },
     "execution_count": 21,
     "metadata": {},
     "output_type": "execute_result"
    }
   ],
   "source": [
    "# type(result)"
   ]
  },
  {
   "cell_type": "code",
   "execution_count": 15,
   "id": "7adb1dc5",
   "metadata": {},
   "outputs": [],
   "source": [
    "from IPython.display import clear_output\n",
    "clear_output()"
   ]
  },
  {
   "cell_type": "code",
   "execution_count": 16,
   "id": "050c8eb8",
   "metadata": {},
   "outputs": [],
   "source": [
    "def user_choice():\n",
    "    '''\n",
    "    To input user numerical choice (1-10) \n",
    "    and display it back as an integer\n",
    "    '''\n",
    "    # This initial choice value can be anything that isn't an integer\n",
    "    choice = 'wrong'\n",
    "    \n",
    "    #initial range check\n",
    "    within_range = False\n",
    "    \n",
    "    #2 conditions to check\n",
    "    \n",
    "    # While the choice is not a digit or within your range, keep asking for input.\n",
    "    while choice.isdigit() == False or within_range == False:\n",
    "        \n",
    "        # we shouldn't convert here, otherwise we get an error on a wrong input\n",
    "        choice = input(\"Please enter a number from 1 to 10: \")\n",
    "        \n",
    "        #digit check with error message\n",
    "        if choice.isdigit() == False:\n",
    "            #clears the output before sending message(must run \"from IPython.display import clear_output\" prior)\n",
    "            clear_output()\n",
    "            print(\"That is NOT an integer,Please try again!\")\n",
    "            \n",
    "        #range check with error message\n",
    "        if choice.isdigit() == True:\n",
    "            if int(choice) in range(0,11):\n",
    "                within_range = True\n",
    "            else:\n",
    "                within_range = False\n",
    "                #clear the output before sending message\n",
    "                clear_output()\n",
    "                print(\"Number not within choices\")\n",
    "                \n",
    "    \n",
    "    # We can convert once the while loop above has confirmed we have a digit.\n",
    "    return int(choice)"
   ]
  },
  {
   "cell_type": "code",
   "execution_count": 17,
   "id": "b5454884",
   "metadata": {},
   "outputs": [
    {
     "name": "stdout",
     "output_type": "stream",
     "text": [
      "Number not within choices\n",
      "Please enter a number from 1 to 10: 9\n"
     ]
    },
    {
     "data": {
      "text/plain": [
       "9"
      ]
     },
     "execution_count": 17,
     "metadata": {},
     "output_type": "execute_result"
    }
   ],
   "source": [
    "user_choice()"
   ]
  },
  {
   "cell_type": "code",
   "execution_count": null,
   "id": "72eb17f1",
   "metadata": {},
   "outputs": [],
   "source": []
  }
 ],
 "metadata": {
  "kernelspec": {
   "display_name": "Python 3",
   "language": "python",
   "name": "python3"
  },
  "language_info": {
   "codemirror_mode": {
    "name": "ipython",
    "version": 3
   },
   "file_extension": ".py",
   "mimetype": "text/x-python",
   "name": "python",
   "nbconvert_exporter": "python",
   "pygments_lexer": "ipython3",
   "version": "3.8.8"
  }
 },
 "nbformat": 4,
 "nbformat_minor": 5
}
