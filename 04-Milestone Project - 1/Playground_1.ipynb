{
 "cells": [
  {
   "cell_type": "markdown",
   "id": "808c793b",
   "metadata": {},
   "source": [
    "## Playground 1"
   ]
  },
  {
   "cell_type": "code",
   "execution_count": 1,
   "id": "aa3f7a19",
   "metadata": {},
   "outputs": [],
   "source": [
    "#display sample\n",
    "def display(row1, row2, row3):\n",
    "    print(row1)\n",
    "    print(row2)\n",
    "    print(row3)"
   ]
  },
  {
   "cell_type": "code",
   "execution_count": 2,
   "id": "f2694360",
   "metadata": {},
   "outputs": [],
   "source": [
    "a = [' ',' ',' ']\n",
    "b = [' ',' ',' ']\n",
    "c = [' ',' ',' ']"
   ]
  },
  {
   "cell_type": "code",
   "execution_count": 6,
   "id": "3eada8c9",
   "metadata": {},
   "outputs": [
    {
     "name": "stdout",
     "output_type": "stream",
     "text": [
      "[' ', ' ', ' ']\n",
      "[' ', 'X', ' ']\n",
      "[' ', ' ', ' ']\n"
     ]
    }
   ],
   "source": [
    "display(a, b, c)"
   ]
  },
  {
   "cell_type": "code",
   "execution_count": 5,
   "id": "89ab52a5",
   "metadata": {},
   "outputs": [],
   "source": [
    "b[1] = 'X'"
   ]
  },
  {
   "cell_type": "code",
   "execution_count": 8,
   "id": "d0af2037",
   "metadata": {},
   "outputs": [
    {
     "name": "stdout",
     "output_type": "stream",
     "text": [
      "Please enter a number: 2\n"
     ]
    }
   ],
   "source": [
    "result = int(input(\"Please enter a number: \"))"
   ]
  },
  {
   "cell_type": "code",
   "execution_count": 9,
   "id": "edd12db5",
   "metadata": {},
   "outputs": [
    {
     "data": {
      "text/plain": [
       "2"
      ]
     },
     "execution_count": 9,
     "metadata": {},
     "output_type": "execute_result"
    }
   ],
   "source": [
    "result"
   ]
  },
  {
   "cell_type": "code",
   "execution_count": 18,
   "id": "e9a5db7a",
   "metadata": {},
   "outputs": [],
   "source": [
    "# def user_choice():\n",
    "#     '''\n",
    "#     To input user numerical choice (1-10) \n",
    "#     and display it back as an integer\n",
    "#     '''\n",
    "#     choice = int(input(\"Please enter a number from 1 to 10: \"))\n",
    "    \n",
    "#     return choice"
   ]
  },
  {
   "cell_type": "code",
   "execution_count": 12,
   "id": "817dafb2",
   "metadata": {},
   "outputs": [
    {
     "name": "stdout",
     "output_type": "stream",
     "text": [
      "Please enter a number from 1 to 10: 1\n"
     ]
    }
   ],
   "source": [
    "# #this does not store the number\n",
    "# user_choice()"
   ]
  },
  {
   "cell_type": "code",
   "execution_count": 19,
   "id": "0b58a930",
   "metadata": {},
   "outputs": [
    {
     "name": "stdout",
     "output_type": "stream",
     "text": [
      "Please enter a number from 1 to 10: 3\n"
     ]
    }
   ],
   "source": [
    "# result = user_choice()"
   ]
  },
  {
   "cell_type": "code",
   "execution_count": 20,
   "id": "03d1937f",
   "metadata": {},
   "outputs": [
    {
     "data": {
      "text/plain": [
       "3"
      ]
     },
     "execution_count": 20,
     "metadata": {},
     "output_type": "execute_result"
    }
   ],
   "source": [
    "# result"
   ]
  },
  {
   "cell_type": "code",
   "execution_count": 21,
   "id": "8e14120f",
   "metadata": {},
   "outputs": [
    {
     "data": {
      "text/plain": [
       "int"
      ]
     },
     "execution_count": 21,
     "metadata": {},
     "output_type": "execute_result"
    }
   ],
   "source": [
    "# type(result)"
   ]
  },
  {
   "cell_type": "code",
   "execution_count": 15,
   "id": "7adb1dc5",
   "metadata": {},
   "outputs": [],
   "source": [
    "from IPython.display import clear_output\n",
    "clear_output()"
   ]
  },
  {
   "cell_type": "code",
   "execution_count": 16,
   "id": "050c8eb8",
   "metadata": {},
   "outputs": [],
   "source": [
    "def user_choice():\n",
    "    '''\n",
    "    To input user numerical choice (1-10) \n",
    "    and display it back as an integer\n",
    "    '''\n",
    "    # This initial choice value can be anything that isn't an integer\n",
    "    choice = 'wrong'\n",
    "    \n",
    "    #initial range check\n",
    "    within_range = False\n",
    "    \n",
    "    #2 conditions to check\n",
    "    \n",
    "    # While the choice is not a digit or within your range, keep asking for input.\n",
    "    while choice.isdigit() == False or within_range == False:\n",
    "        \n",
    "        # we shouldn't convert here, otherwise we get an error on a wrong input\n",
    "        choice = input(\"Please enter a number from 1 to 10: \")\n",
    "        \n",
    "        #digit check with error message\n",
    "        if choice.isdigit() == False:\n",
    "            #clears the output before sending message(must run \"from IPython.display import clear_output\" prior)\n",
    "            clear_output()\n",
    "            print(\"That is NOT an integer,Please try again!\")\n",
    "            \n",
    "        #range check with error message\n",
    "        if choice.isdigit() == True:\n",
    "            if int(choice) in range(0,11):\n",
    "                within_range = True\n",
    "            else:\n",
    "                within_range = False\n",
    "                #clear the output before sending message\n",
    "                clear_output()\n",
    "                print(\"Number not within choices\")\n",
    "                \n",
    "    \n",
    "    # We can convert once the while loop above has confirmed we have a digit.\n",
    "    return int(choice)"
   ]
  },
  {
   "cell_type": "code",
   "execution_count": 17,
   "id": "b5454884",
   "metadata": {},
   "outputs": [
    {
     "name": "stdout",
     "output_type": "stream",
     "text": [
      "Number not within choices\n",
      "Please enter a number from 1 to 10: 9\n"
     ]
    },
    {
     "data": {
      "text/plain": [
       "9"
      ]
     },
     "execution_count": 17,
     "metadata": {},
     "output_type": "execute_result"
    }
   ],
   "source": [
    "user_choice()"
   ]
  },
  {
   "cell_type": "markdown",
   "id": "a8273860",
   "metadata": {},
   "source": [
    "## Simple User Interactive Program"
   ]
  },
  {
   "cell_type": "code",
   "execution_count": 1,
   "id": "553ea613",
   "metadata": {},
   "outputs": [],
   "source": [
    "game_list = [0,1,2]"
   ]
  },
  {
   "cell_type": "code",
   "execution_count": 2,
   "id": "32ddab5c",
   "metadata": {},
   "outputs": [],
   "source": [
    "def display_game(game_list):\n",
    "    print(\"Here is the current list: \")\n",
    "    print(game_list)"
   ]
  },
  {
   "cell_type": "code",
   "execution_count": 3,
   "id": "7f2fade9",
   "metadata": {},
   "outputs": [
    {
     "name": "stdout",
     "output_type": "stream",
     "text": [
      "Here is the current list: \n",
      "[0, 1, 2]\n"
     ]
    }
   ],
   "source": [
    "display_game(game_list)"
   ]
  },
  {
   "cell_type": "code",
   "execution_count": 4,
   "id": "d3519835",
   "metadata": {},
   "outputs": [],
   "source": [
    "#function to ask user to pick a position\n",
    "def position_choice():\n",
    "    choice = 'wrong'\n",
    "    \n",
    "    while choice not in ['0','1','2']:\n",
    "        \n",
    "        choice = input(\"Pick a position (0,1,2)\")\n",
    "        \n",
    "        if choice not in ['0','1','2']:\n",
    "            print(\"Sorry, invalid choice! \")\n",
    "            \n",
    "            \n",
    "    return int(choice)"
   ]
  },
  {
   "cell_type": "code",
   "execution_count": 6,
   "id": "69d34a73",
   "metadata": {},
   "outputs": [
    {
     "name": "stdout",
     "output_type": "stream",
     "text": [
      "Pick a position (0,1,2)5\n",
      "Sorry, invalid choice! \n",
      "Pick a position (0,1,2)1\n"
     ]
    },
    {
     "data": {
      "text/plain": [
       "1"
      ]
     },
     "execution_count": 6,
     "metadata": {},
     "output_type": "execute_result"
    }
   ],
   "source": [
    "position_choice()"
   ]
  },
  {
   "cell_type": "code",
   "execution_count": 5,
   "id": "5363e2e0",
   "metadata": {},
   "outputs": [],
   "source": [
    "#function to ask user what to replace in chosen position\n",
    "def replacement_choice(game_list, position):\n",
    "    \n",
    "    user_placement = input(\"Type a string to place at position: \")\n",
    "    \n",
    "    game_list[position] = user_placement\n",
    "    #replacement choice update game list\n",
    "    return game_list"
   ]
  },
  {
   "cell_type": "code",
   "execution_count": 8,
   "id": "f7f83e56",
   "metadata": {},
   "outputs": [
    {
     "name": "stdout",
     "output_type": "stream",
     "text": [
      "Type a string to place at position: test\n"
     ]
    },
    {
     "data": {
      "text/plain": [
       "[0, 'test', 2]"
      ]
     },
     "execution_count": 8,
     "metadata": {},
     "output_type": "execute_result"
    }
   ],
   "source": [
    "replacement_choice(game_list,1)"
   ]
  },
  {
   "cell_type": "code",
   "execution_count": 6,
   "id": "8eba73e6",
   "metadata": {},
   "outputs": [],
   "source": [
    "#function to ask if user wants to keep playing\n",
    "def gameon_choice():\n",
    "    \n",
    "    choice = 'wrong'\n",
    "    \n",
    "    while choice not in ['Y','N']:\n",
    "        \n",
    "        choice = input(\"Continue playing? (Y or N)\")\n",
    "        \n",
    "        if choice not in ['Y','N']:\n",
    "            print(\"Sorry, I do not understand, please choose Y or N \")\n",
    "            \n",
    "            \n",
    "    if choice == \"Y\":\n",
    "        return True\n",
    "    else:\n",
    "        return False"
   ]
  },
  {
   "cell_type": "code",
   "execution_count": 11,
   "id": "f3994e7d",
   "metadata": {},
   "outputs": [
    {
     "name": "stdout",
     "output_type": "stream",
     "text": [
      "Continue playing? (Y or N)h\n",
      "Sorry, I do not understand, please choose Y or N \n",
      "Continue playing? (Y or N)N\n"
     ]
    },
    {
     "data": {
      "text/plain": [
       "False"
      ]
     },
     "execution_count": 11,
     "metadata": {},
     "output_type": "execute_result"
    }
   ],
   "source": [
    "gameon_choice()"
   ]
  },
  {
   "cell_type": "code",
   "execution_count": 7,
   "id": "420d01dd",
   "metadata": {},
   "outputs": [
    {
     "name": "stdout",
     "output_type": "stream",
     "text": [
      "Here is the current list: \n",
      "[0, 1, 2]\n",
      "Pick a position (0,1,2)0\n",
      "Type a string to place at position: I\n",
      "Here is the current list: \n",
      "['I', 1, 2]\n",
      "Continue playing? (Y or N)y\n",
      "Sorry, I do not understand, please choose Y or N \n",
      "Continue playing? (Y or N)Y\n",
      "Here is the current list: \n",
      "['I', 1, 2]\n",
      "Pick a position (0,1,2)1\n",
      "Type a string to place at position: did\n",
      "Here is the current list: \n",
      "['I', 'did', 2]\n",
      "Continue playing? (Y or N)Y\n",
      "Here is the current list: \n",
      "['I', 'did', 2]\n",
      "Pick a position (0,1,2)it!\n",
      "Sorry, invalid choice! \n",
      "Pick a position (0,1,2)2\n",
      "Type a string to place at position: it\n",
      "Here is the current list: \n",
      "['I', 'did', 'it']\n",
      "Continue playing? (Y or N)N\n"
     ]
    }
   ],
   "source": [
    "#putting it all together \n",
    "\n",
    "#define initial variables\n",
    "game_on = True\n",
    "game_list = [0,1,2]\n",
    "#while \"game_on\" = True(already boolean)\n",
    "while game_on:\n",
    "    #display current game list\n",
    "    display_game(game_list)\n",
    "    #user to choose position\n",
    "    position = position_choice()\n",
    "    #rewrite chosen position and update game_list\n",
    "    game_list = replacement_choice(game_list, position)\n",
    "    #redisplay game\n",
    "    display_game(game_list)\n",
    "    #give user option quit game\n",
    "    game_on = gameon_choice()\n",
    "    "
   ]
  }
 ],
 "metadata": {
  "kernelspec": {
   "display_name": "Python 3",
   "language": "python",
   "name": "python3"
  },
  "language_info": {
   "codemirror_mode": {
    "name": "ipython",
    "version": 3
   },
   "file_extension": ".py",
   "mimetype": "text/x-python",
   "name": "python",
   "nbconvert_exporter": "python",
   "pygments_lexer": "ipython3",
   "version": "3.8.8"
  }
 },
 "nbformat": 4,
 "nbformat_minor": 5
}
