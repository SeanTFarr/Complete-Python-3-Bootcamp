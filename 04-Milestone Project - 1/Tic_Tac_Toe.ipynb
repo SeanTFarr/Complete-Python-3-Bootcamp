{
 "cells": [
  {
   "cell_type": "markdown",
   "id": "7c5d9f31",
   "metadata": {},
   "source": [
    "# Tic Tac Toe Game"
   ]
  },
  {
   "cell_type": "code",
   "execution_count": 1,
   "id": "81a5c8d2",
   "metadata": {},
   "outputs": [],
   "source": [
    "#To clear the screen between moves:\n",
    "from IPython.display import clear_output\n",
    " \n",
    "#making a list, where each index 1-9 corresponds with a number on a number pad, so you get a 3 by 3 board representation.\n",
    "def display_board(board):\n",
    "    '''This function prints out a board'''\n",
    "    clear_output()\n",
    "    print(board[1]+'|'+board[2]+'|'+board[3])\n",
    "    print('-----')\n",
    "    print(board[4]+'|'+board[5]+'|'+board[6])\n",
    "    print('-----')\n",
    "    print(board[7]+'|'+board[8]+'|'+board[9])"
   ]
  },
  {
   "cell_type": "code",
   "execution_count": 2,
   "id": "e09abdd7",
   "metadata": {},
   "outputs": [],
   "source": [
    "def player_input():\n",
    "    '''This function takes in a player input and assign their marker as X or O'''\n",
    "    # set marker as empty string\n",
    "    marker = ''\n",
    "    \n",
    "    #keep asking player 1 to choose X or O\n",
    "    while marker != 'X'and marker != 'O':\n",
    "        marker = input('Player 1, choose X or O: ').upper()\n",
    "    #assign player 2 the opposite marker\n",
    "    \n",
    "    if marker == 'X':\n",
    "        return ('X', 'O') \n",
    "    else:\n",
    "        return('O', 'X')"
   ]
  },
  {
   "cell_type": "code",
   "execution_count": 3,
   "id": "bd77ba3d",
   "metadata": {},
   "outputs": [],
   "source": [
    "def place_marker(board, marker, position):\n",
    "    '''This function takes in the board list object, a marker ('X' or 'O'), \n",
    "    and a desired position (number 1-9) and assigns it to the board.'''    \n",
    "    board[position] = marker"
   ]
  },
  {
   "cell_type": "code",
   "execution_count": 4,
   "id": "8dc6160d",
   "metadata": {},
   "outputs": [],
   "source": [
    "def win_check(board, mark):\n",
    "    '''This function takes in a board and a mark (X or O)\n",
    "    and then checks to see if that mark has won.'''    \n",
    "    #check rows, columns, and diagonals to see if all share same marker\n",
    "    return ((board[1] == mark and board[2] == mark and board[3] == mark) or \n",
    "    (board[4] == mark and board[5] == mark and board[6] == mark) or\n",
    "    (board[7] == mark and board[8] == mark and board[9] == mark) or\n",
    "    (board[1] == mark and board[4] == mark and board[7] == mark) or\n",
    "    (board[2] == mark and board[5] == mark and board[8] == mark) or\n",
    "    (board[3] == mark and board[6] == mark and board[9] == mark) or\n",
    "    (board[1] == mark and board[5] == mark and board[9] == mark) or\n",
    "    (board[3] == mark and board[5] == mark and board[7] == mark))"
   ]
  },
  {
   "cell_type": "code",
   "execution_count": 5,
   "id": "2e5ceb31",
   "metadata": {},
   "outputs": [],
   "source": [
    "import random\n",
    "\n",
    "def choose_first():\n",
    "    '''This function uses the random module to randomly decide which player goes first.'''\n",
    "    # create variable to hold random coin flip\n",
    "    flip = random.randint(0,1)\n",
    "    \n",
    "    if flip == 0:\n",
    "        return 'Player 1'\n",
    "    else:\n",
    "        return 'Player 2'"
   ]
  },
  {
   "cell_type": "code",
   "execution_count": 6,
   "id": "d78a2de5",
   "metadata": {},
   "outputs": [],
   "source": [
    "def space_check(board, position):\n",
    "    '''This function returns a boolean indicating whether a space on the board is freely available.'''\n",
    "    return board[position] ==  ' '"
   ]
  },
  {
   "cell_type": "code",
   "execution_count": 7,
   "id": "3c0fd317",
   "metadata": {},
   "outputs": [],
   "source": [
    "def full_board_check(board):\n",
    "    '''This function checks if the board is full and returns a boolean value. \n",
    "    True if full, False otherwise.'''\n",
    "    #check range of numbers in board\n",
    "    for i in range(1,10):\n",
    "        #check all spaces, if there is a space, the board is not full, so it is False\n",
    "        if space_check(board,i):\n",
    "            return False\n",
    "    # board is full if returns True    \n",
    "    return True"
   ]
  },
  {
   "cell_type": "code",
   "execution_count": 8,
   "id": "f8a2cb03",
   "metadata": {},
   "outputs": [],
   "source": [
    "def player_choice(board):\n",
    "    '''This function  asks for a player's next position (as a number 1-9) and \n",
    "    then uses the function space_check to check if it's a free position. \n",
    "    If it is, then return the position for later use.'''\n",
    "    #placing a variable for position, setting it at 0\n",
    "    position = 0\n",
    "    #while loop to check for actual number on board\n",
    "    while position not in [1,2,3,4,5,6,7,8,9] or not space_check(board, position):\n",
    "        #ask player for what position\n",
    "        position = int(input('Choose a position: (1-9) '))\n",
    "        \n",
    "    return position"
   ]
  },
  {
   "cell_type": "code",
   "execution_count": 9,
   "id": "37e73f9b",
   "metadata": {},
   "outputs": [],
   "source": [
    "def replay():\n",
    "    '''This function asks the player if they want to play again \n",
    "    and returns a boolean True if they do want to play again.'''\n",
    "    choice = input(\"play again? Enter Yes or No\")\n",
    "    \n",
    "    return choice == 'Yes'"
   ]
  },
  {
   "cell_type": "markdown",
   "id": "08708b8c",
   "metadata": {},
   "source": [
    "## Using while loops and the functions above to run the game!"
   ]
  },
  {
   "cell_type": "code",
   "execution_count": 10,
   "id": "3e527c8a",
   "metadata": {},
   "outputs": [
    {
     "name": "stdout",
     "output_type": "stream",
     "text": [
      "O| |X\n",
      "-----\n",
      "O|X| \n",
      "-----\n",
      "X| | \n",
      "Player 1 has won!!\n",
      "play again? Enter Yes or Noy\n"
     ]
    }
   ],
   "source": [
    "print('Welcome to Tic Tac Toe!')\n",
    "\n",
    "while True:\n",
    "    # Set the game up here:board, whos first, chosing markers\n",
    "    #set up blank board\n",
    "    the_board = [' '] * 10\n",
    "    player1_marker, player2_marker = player_input()\n",
    "    #who goes first wit printed report of who\n",
    "    turn = choose_first()\n",
    "    print(turn + ' will go first')\n",
    "    #ask if ready to play game\n",
    "    play_game = input('Ready to play? y or n ')\n",
    "    \n",
    "    if play_game == 'y':\n",
    "        game_on = True\n",
    "    else:\n",
    "        game_on = False\n",
    "        \n",
    "    ## Game play\n",
    "    while game_on:\n",
    "        #Player 1 Turn\n",
    "        if turn == 'Player 1':\n",
    "            \n",
    "            #show the board\n",
    "            display_board(the_board)\n",
    "            #choose a position\n",
    "            position = player_choice(the_board)\n",
    "            #place marker on board\n",
    "            place_marker(the_board, player1_marker, position)\n",
    "            #check if they won\n",
    "            if win_check(the_board, player1_marker):\n",
    "                display_board(the_board)\n",
    "                print('Player 1 has won!!')\n",
    "                game_on = False\n",
    "            #or check if there is a tie\n",
    "            else:\n",
    "                if full_board_check(the_board):\n",
    "                    display_board(the_board)\n",
    "                    print('Tie Game!')\n",
    "                    break\n",
    "                #no tie and no winner? then next players turn    \n",
    "                else:\n",
    "                    turn = 'Player 2'\n",
    "            \n",
    "    \n",
    "        else:\n",
    "            # Player2's turn.        \n",
    "            #show the board\n",
    "            display_board(the_board)\n",
    "            #choose a position\n",
    "            position = player_choice(the_board)\n",
    "            #place marker on board\n",
    "            place_marker(the_board, player2_marker, position)\n",
    "            #check if they won\n",
    "            if win_check(the_board, player2_marker):\n",
    "                display_board(the_board)\n",
    "                print('Player 2 has won!!')\n",
    "                game_on = False\n",
    "            #or check if there is a tie\n",
    "            else:\n",
    "                if full_board_check(the_board):\n",
    "                    display_board(the_board)\n",
    "                    print('Tie Game!')\n",
    "                    break\n",
    "\n",
    "                else:\n",
    "                    turn = 'Player 1'    \n",
    "            \n",
    "\n",
    "    if not replay():\n",
    "        break"
   ]
  }
 ],
 "metadata": {
  "kernelspec": {
   "display_name": "Python 3",
   "language": "python",
   "name": "python3"
  },
  "language_info": {
   "codemirror_mode": {
    "name": "ipython",
    "version": 3
   },
   "file_extension": ".py",
   "mimetype": "text/x-python",
   "name": "python",
   "nbconvert_exporter": "python",
   "pygments_lexer": "ipython3",
   "version": "3.9.6 (tags/v3.9.6:db3ff76, Jun 28 2021, 15:26:21) [MSC v.1929 64 bit (AMD64)]"
  },
  "vscode": {
   "interpreter": {
    "hash": "613505eef840f4f1c29b370042fa0c578b432b2aeae689c84a5059bc9dc81965"
   }
  }
 },
 "nbformat": 4,
 "nbformat_minor": 5
}
