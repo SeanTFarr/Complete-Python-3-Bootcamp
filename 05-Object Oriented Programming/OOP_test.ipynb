{
 "cells": [
  {
   "cell_type": "code",
   "execution_count": 14,
   "id": "b2dab696",
   "metadata": {},
   "outputs": [],
   "source": [
    "class Cash():\n",
    "    def __init__(self,value):\n",
    "        self.value = value\n",
    "        \n",
    "    def add_to_value(self,amount):\n",
    "        self.value = self.value + amount\n",
    "        print('We just added {} to your account'. format(amount))\n",
    "        \n",
    "    def withdrawl(self,withdrawn):\n",
    "        self.value = self.value - withdrawn\n",
    "        print('You have withdrawn {} from your account'.format(withdrawn))"
   ]
  },
  {
   "cell_type": "code",
   "execution_count": 15,
   "id": "60dcc2f5",
   "metadata": {},
   "outputs": [],
   "source": [
    "mymoney=Cash(200)"
   ]
  },
  {
   "cell_type": "code",
   "execution_count": 16,
   "id": "66fd298b",
   "metadata": {},
   "outputs": [
    {
     "data": {
      "text/plain": [
       "200"
      ]
     },
     "execution_count": 16,
     "metadata": {},
     "output_type": "execute_result"
    }
   ],
   "source": [
    "mymoney.value"
   ]
  },
  {
   "cell_type": "code",
   "execution_count": 17,
   "id": "715c0345",
   "metadata": {},
   "outputs": [
    {
     "name": "stdout",
     "output_type": "stream",
     "text": [
      "We just added 150 to your account\n"
     ]
    }
   ],
   "source": [
    "mymoney.add_to_value(150)"
   ]
  },
  {
   "cell_type": "code",
   "execution_count": 18,
   "id": "dd2eaa5b",
   "metadata": {},
   "outputs": [
    {
     "data": {
      "text/plain": [
       "350"
      ]
     },
     "execution_count": 18,
     "metadata": {},
     "output_type": "execute_result"
    }
   ],
   "source": [
    "mymoney.value"
   ]
  },
  {
   "cell_type": "code",
   "execution_count": 19,
   "id": "2ec1b025",
   "metadata": {},
   "outputs": [
    {
     "name": "stdout",
     "output_type": "stream",
     "text": [
      "You have withdrawn 50 from your account\n"
     ]
    }
   ],
   "source": [
    "mymoney.withdrawl(50)"
   ]
  },
  {
   "cell_type": "code",
   "execution_count": 20,
   "id": "023022cb",
   "metadata": {},
   "outputs": [
    {
     "data": {
      "text/plain": [
       "300"
      ]
     },
     "execution_count": 20,
     "metadata": {},
     "output_type": "execute_result"
    }
   ],
   "source": [
    "mymoney.value"
   ]
  },
  {
   "cell_type": "code",
   "execution_count": null,
   "id": "2f12c44c",
   "metadata": {},
   "outputs": [],
   "source": []
  }
 ],
 "metadata": {
  "kernelspec": {
   "display_name": "Python 3",
   "language": "python",
   "name": "python3"
  },
  "language_info": {
   "codemirror_mode": {
    "name": "ipython",
    "version": 3
   },
   "file_extension": ".py",
   "mimetype": "text/x-python",
   "name": "python",
   "nbconvert_exporter": "python",
   "pygments_lexer": "ipython3",
   "version": "3.8.8"
  }
 },
 "nbformat": 4,
 "nbformat_minor": 5
}
