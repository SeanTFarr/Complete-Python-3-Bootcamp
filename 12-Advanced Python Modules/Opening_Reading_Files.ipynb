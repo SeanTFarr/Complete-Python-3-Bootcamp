{
 "cells": [
  {
   "cell_type": "markdown",
   "id": "93da2233",
   "metadata": {},
   "source": [
    "## Opening and Reading Files"
   ]
  },
  {
   "cell_type": "code",
   "execution_count": 1,
   "id": "fbaaf608",
   "metadata": {},
   "outputs": [
    {
     "data": {
      "text/plain": [
       "'C:\\\\Users\\\\kyobu\\\\Desktop\\\\My Python Stuff\\\\Complete-Python-3-Bootcamp\\\\12-Advanced Python Modules'"
      ]
     },
     "execution_count": 1,
     "metadata": {},
     "output_type": "execute_result"
    }
   ],
   "source": [
    "#pwd gives you your operating path\n",
    "pwd"
   ]
  },
  {
   "cell_type": "code",
   "execution_count": 2,
   "id": "fe63219b",
   "metadata": {},
   "outputs": [],
   "source": [
    "f = open('practice.txt','w+')\n",
    "f.write('test')\n",
    "f.close()"
   ]
  },
  {
   "cell_type": "code",
   "execution_count": 3,
   "id": "c25378f0",
   "metadata": {},
   "outputs": [],
   "source": [
    "import os"
   ]
  },
  {
   "cell_type": "code",
   "execution_count": 4,
   "id": "8d10c833",
   "metadata": {},
   "outputs": [
    {
     "data": {
      "text/plain": [
       "'C:\\\\Users\\\\kyobu\\\\Desktop\\\\My Python Stuff\\\\Complete-Python-3-Bootcamp\\\\12-Advanced Python Modules'"
      ]
     },
     "execution_count": 4,
     "metadata": {},
     "output_type": "execute_result"
    }
   ],
   "source": [
    "#similar to pwd, but works on any python script\n",
    "os.getcwd()"
   ]
  },
  {
   "cell_type": "code",
   "execution_count": 5,
   "id": "4f531c38",
   "metadata": {},
   "outputs": [
    {
     "data": {
      "text/plain": [
       "['.ipynb_checkpoints',\n",
       " '00-Collections-Module.ipynb',\n",
       " '01-Opening-and-Reading-Files-Folders.ipynb',\n",
       " '02-Datetime-Module.ipynb',\n",
       " '03-Math-and-Random-Module.ipynb',\n",
       " '04-Python Debugger (pdb).ipynb',\n",
       " '05-Overview-of-Regular-Expressions.ipynb',\n",
       " '06-Timing your code - timeit.ipynb',\n",
       " '07-Unzipping-and-Zipping-Files.ipynb',\n",
       " '08-Advanced-Python-Module-Exercise',\n",
       " 'Collections_Module.ipynb',\n",
       " 'Example_Top_Level',\n",
       " 'Opening_Reading_Files.ipynb',\n",
       " 'practice.txt']"
      ]
     },
     "execution_count": 5,
     "metadata": {},
     "output_type": "execute_result"
    }
   ],
   "source": [
    "# to see current directory\n",
    "os.listdir()"
   ]
  },
  {
   "cell_type": "code",
   "execution_count": 7,
   "id": "a5f90bff",
   "metadata": {},
   "outputs": [
    {
     "data": {
      "text/plain": [
       "['.ipynb_checkpoints',\n",
       " 'Analysis Projects',\n",
       " 'Data Bootcamp',\n",
       " 'Datasets',\n",
       " 'desktop.ini',\n",
       " 'Excel.lnk',\n",
       " 'GitHub Desktop.lnk',\n",
       " 'Gmail.lnk',\n",
       " 'InfinityExternal.rdp',\n",
       " 'Maven_Cycles',\n",
       " 'MongoDBCompass.lnk',\n",
       " 'My Python Stuff',\n",
       " 'Photopea.lnk',\n",
       " 'Power BI Desktop.lnk',\n",
       " 'Slack.lnk',\n",
       " 'Visual Studio Code.lnk']"
      ]
     },
     "execution_count": 7,
     "metadata": {},
     "output_type": "execute_result"
    }
   ],
   "source": [
    "# to see other directories\n",
    "os.listdir('C:\\\\Users\\\\kyobu\\\\Desktop')"
   ]
  },
  {
   "cell_type": "code",
   "execution_count": 9,
   "id": "c4b3c35c",
   "metadata": {},
   "outputs": [],
   "source": [
    "#to move files, import shutil\n",
    "import shutil"
   ]
  },
  {
   "cell_type": "code",
   "execution_count": 10,
   "id": "34d6ead8",
   "metadata": {},
   "outputs": [
    {
     "data": {
      "text/plain": [
       "'C:\\\\Users\\\\kyobu\\\\Desktop\\\\My Python Stuff\\\\practice.txt'"
      ]
     },
     "execution_count": 10,
     "metadata": {},
     "output_type": "execute_result"
    }
   ],
   "source": [
    "#then use this\n",
    "shutil.move('practice.txt', 'C:\\\\Users\\\\kyobu\\\\Desktop\\\\My Python Stuff')"
   ]
  },
  {
   "cell_type": "code",
   "execution_count": 11,
   "id": "f4b45a6c",
   "metadata": {},
   "outputs": [],
   "source": [
    "import send2trash"
   ]
  },
  {
   "cell_type": "code",
   "execution_count": 12,
   "id": "b747cce0",
   "metadata": {},
   "outputs": [
    {
     "data": {
      "text/plain": [
       "['.ipynb_checkpoints',\n",
       " '00-Collections-Module.ipynb',\n",
       " '01-Opening-and-Reading-Files-Folders.ipynb',\n",
       " '02-Datetime-Module.ipynb',\n",
       " '03-Math-and-Random-Module.ipynb',\n",
       " '04-Python Debugger (pdb).ipynb',\n",
       " '05-Overview-of-Regular-Expressions.ipynb',\n",
       " '06-Timing your code - timeit.ipynb',\n",
       " '07-Unzipping-and-Zipping-Files.ipynb',\n",
       " '08-Advanced-Python-Module-Exercise',\n",
       " 'Collections_Module.ipynb',\n",
       " 'Example_Top_Level',\n",
       " 'Opening_Reading_Files.ipynb']"
      ]
     },
     "execution_count": 12,
     "metadata": {},
     "output_type": "execute_result"
    }
   ],
   "source": [
    "os.listdir()"
   ]
  },
  {
   "cell_type": "code",
   "execution_count": 15,
   "id": "4a7b9cac",
   "metadata": {},
   "outputs": [
    {
     "data": {
      "text/plain": [
       "'C:\\\\Users\\\\kyobu\\\\Desktop\\\\My Python Stuff\\\\Complete-Python-3-Bootcamp\\\\12-Advanced Python Modules\\\\practice.txt'"
      ]
     },
     "execution_count": 15,
     "metadata": {},
     "output_type": "execute_result"
    }
   ],
   "source": [
    "shutil.move('C:\\\\Users\\\\kyobu\\\\Desktop\\\\My Python Stuff\\\\practice.txt', os.getcwd())"
   ]
  },
  {
   "cell_type": "code",
   "execution_count": 16,
   "id": "7fa9eaab",
   "metadata": {},
   "outputs": [
    {
     "data": {
      "text/plain": [
       "['.ipynb_checkpoints',\n",
       " '00-Collections-Module.ipynb',\n",
       " '01-Opening-and-Reading-Files-Folders.ipynb',\n",
       " '02-Datetime-Module.ipynb',\n",
       " '03-Math-and-Random-Module.ipynb',\n",
       " '04-Python Debugger (pdb).ipynb',\n",
       " '05-Overview-of-Regular-Expressions.ipynb',\n",
       " '06-Timing your code - timeit.ipynb',\n",
       " '07-Unzipping-and-Zipping-Files.ipynb',\n",
       " '08-Advanced-Python-Module-Exercise',\n",
       " 'Collections_Module.ipynb',\n",
       " 'Example_Top_Level',\n",
       " 'Opening_Reading_Files.ipynb',\n",
       " 'practice.txt']"
      ]
     },
     "execution_count": 16,
     "metadata": {},
     "output_type": "execute_result"
    }
   ],
   "source": [
    "os.listdir()"
   ]
  },
  {
   "cell_type": "code",
   "execution_count": 17,
   "id": "5201fb3f",
   "metadata": {},
   "outputs": [],
   "source": [
    "send2trash.send2trash('practice.txt')"
   ]
  },
  {
   "cell_type": "code",
   "execution_count": 18,
   "id": "0bd96c38",
   "metadata": {},
   "outputs": [
    {
     "data": {
      "text/plain": [
       "['.ipynb_checkpoints',\n",
       " '00-Collections-Module.ipynb',\n",
       " '01-Opening-and-Reading-Files-Folders.ipynb',\n",
       " '02-Datetime-Module.ipynb',\n",
       " '03-Math-and-Random-Module.ipynb',\n",
       " '04-Python Debugger (pdb).ipynb',\n",
       " '05-Overview-of-Regular-Expressions.ipynb',\n",
       " '06-Timing your code - timeit.ipynb',\n",
       " '07-Unzipping-and-Zipping-Files.ipynb',\n",
       " '08-Advanced-Python-Module-Exercise',\n",
       " 'Collections_Module.ipynb',\n",
       " 'Example_Top_Level',\n",
       " 'Opening_Reading_Files.ipynb']"
      ]
     },
     "execution_count": 18,
     "metadata": {},
     "output_type": "execute_result"
    }
   ],
   "source": [
    "os.listdir()"
   ]
  }
 ],
 "metadata": {
  "kernelspec": {
   "display_name": "Python 3",
   "language": "python",
   "name": "python3"
  },
  "language_info": {
   "codemirror_mode": {
    "name": "ipython",
    "version": 3
   },
   "file_extension": ".py",
   "mimetype": "text/x-python",
   "name": "python",
   "nbconvert_exporter": "python",
   "pygments_lexer": "ipython3",
   "version": "3.8.8"
  }
 },
 "nbformat": 4,
 "nbformat_minor": 5
}
