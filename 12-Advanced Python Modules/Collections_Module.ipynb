{
 "cells": [
  {
   "cell_type": "markdown",
   "id": "9902c9ea",
   "metadata": {},
   "source": [
    "## Fun with the Collections Module"
   ]
  },
  {
   "cell_type": "markdown",
   "id": "bb500d67",
   "metadata": {},
   "source": [
    "### Counter"
   ]
  },
  {
   "cell_type": "code",
   "execution_count": null,
   "id": "5b4f9bfb",
   "metadata": {},
   "outputs": [],
   "source": []
  },
  {
   "cell_type": "code",
   "execution_count": 1,
   "id": "c882b4e8",
   "metadata": {},
   "outputs": [],
   "source": [
    "from collections import Counter"
   ]
  },
  {
   "cell_type": "code",
   "execution_count": 2,
   "id": "2f989cf3",
   "metadata": {},
   "outputs": [],
   "source": [
    "letters = 'aabsbsbsbhshhbbsbs'"
   ]
  },
  {
   "cell_type": "code",
   "execution_count": 4,
   "id": "bb304c14",
   "metadata": {},
   "outputs": [
    {
     "data": {
      "text/plain": [
       "Counter({'a': 2, 'b': 7, 's': 6, 'h': 3})"
      ]
     },
     "execution_count": 4,
     "metadata": {},
     "output_type": "execute_result"
    }
   ],
   "source": [
    "Counter(letters)"
   ]
  },
  {
   "cell_type": "code",
   "execution_count": 5,
   "id": "6c85be41",
   "metadata": {},
   "outputs": [],
   "source": [
    "c=Counter(letters)"
   ]
  },
  {
   "cell_type": "code",
   "execution_count": 6,
   "id": "baff82d4",
   "metadata": {},
   "outputs": [
    {
     "data": {
      "text/plain": [
       "Counter({'a': 2, 'b': 7, 's': 6, 'h': 3})"
      ]
     },
     "execution_count": 6,
     "metadata": {},
     "output_type": "execute_result"
    }
   ],
   "source": [
    "c"
   ]
  },
  {
   "cell_type": "code",
   "execution_count": 7,
   "id": "54068f1a",
   "metadata": {},
   "outputs": [
    {
     "data": {
      "text/plain": [
       "[('b', 7), ('s', 6)]"
      ]
     },
     "execution_count": 7,
     "metadata": {},
     "output_type": "execute_result"
    }
   ],
   "source": [
    "c.most_common(2)"
   ]
  },
  {
   "cell_type": "code",
   "execution_count": 8,
   "id": "5ecb0f89",
   "metadata": {},
   "outputs": [
    {
     "data": {
      "text/plain": [
       "dict_items([('a', 2), ('b', 7), ('s', 6), ('h', 3)])"
      ]
     },
     "execution_count": 8,
     "metadata": {},
     "output_type": "execute_result"
    }
   ],
   "source": [
    "c.items()"
   ]
  },
  {
   "cell_type": "code",
   "execution_count": 9,
   "id": "c1f88064",
   "metadata": {},
   "outputs": [
    {
     "data": {
      "text/plain": [
       "Counter({'a': 2, 'b': 7, 's': 6, 'h': 3})"
      ]
     },
     "execution_count": 9,
     "metadata": {},
     "output_type": "execute_result"
    }
   ],
   "source": [
    "c"
   ]
  },
  {
   "cell_type": "code",
   "execution_count": 11,
   "id": "936e1909",
   "metadata": {},
   "outputs": [],
   "source": [
    "s = 'the word is how many times does a word show up in this sentence before the word is counted as a word'\n",
    "words = s.split()\n",
    "p = Counter(words)"
   ]
  },
  {
   "cell_type": "code",
   "execution_count": 12,
   "id": "eed5d195",
   "metadata": {},
   "outputs": [
    {
     "data": {
      "text/plain": [
       "Counter({'the': 2,\n",
       "         'word': 4,\n",
       "         'is': 2,\n",
       "         'how': 1,\n",
       "         'many': 1,\n",
       "         'times': 1,\n",
       "         'does': 1,\n",
       "         'a': 2,\n",
       "         'show': 1,\n",
       "         'up': 1,\n",
       "         'in': 1,\n",
       "         'this': 1,\n",
       "         'sentence': 1,\n",
       "         'before': 1,\n",
       "         'counted': 1,\n",
       "         'as': 1})"
      ]
     },
     "execution_count": 12,
     "metadata": {},
     "output_type": "execute_result"
    }
   ],
   "source": [
    "p"
   ]
  },
  {
   "cell_type": "code",
   "execution_count": 14,
   "id": "376cc8da",
   "metadata": {},
   "outputs": [
    {
     "data": {
      "text/plain": [
       "[('word', 4), ('the', 2), ('is', 2), ('a', 2)]"
      ]
     },
     "execution_count": 14,
     "metadata": {},
     "output_type": "execute_result"
    }
   ],
   "source": [
    "p.most_common(4)"
   ]
  },
  {
   "cell_type": "markdown",
   "id": "534a8e34",
   "metadata": {},
   "source": [
    "### defaultdict"
   ]
  },
  {
   "cell_type": "code",
   "execution_count": 22,
   "id": "ae07dd89",
   "metadata": {},
   "outputs": [],
   "source": [
    "from collections import defaultdict"
   ]
  },
  {
   "cell_type": "code",
   "execution_count": 23,
   "id": "e6515ba2",
   "metadata": {},
   "outputs": [],
   "source": [
    "d = {}"
   ]
  },
  {
   "cell_type": "code",
   "execution_count": 24,
   "id": "e93ec28e",
   "metadata": {},
   "outputs": [
    {
     "ename": "KeyError",
     "evalue": "'one'",
     "output_type": "error",
     "traceback": [
      "\u001b[1;31m---------------------------------------------------------------------------\u001b[0m",
      "\u001b[1;31mKeyError\u001b[0m                                  Traceback (most recent call last)",
      "\u001b[1;32m<ipython-input-24-924453a5f45e>\u001b[0m in \u001b[0;36m<module>\u001b[1;34m\u001b[0m\n\u001b[1;32m----> 1\u001b[1;33m \u001b[0md\u001b[0m\u001b[1;33m[\u001b[0m\u001b[1;34m'one'\u001b[0m\u001b[1;33m]\u001b[0m\u001b[1;33m\u001b[0m\u001b[1;33m\u001b[0m\u001b[0m\n\u001b[0m",
      "\u001b[1;31mKeyError\u001b[0m: 'one'"
     ]
    }
   ],
   "source": [
    "d['one'] "
   ]
  },
  {
   "cell_type": "code",
   "execution_count": 25,
   "id": "9d35bf3e",
   "metadata": {},
   "outputs": [],
   "source": [
    "#using defaultdict will allow the addition of a prior unrecorded key in a dictionary\n",
    "#added a lambda expression as the default\n",
    "d = defaultdict(lambda: 0)"
   ]
  },
  {
   "cell_type": "code",
   "execution_count": 27,
   "id": "03924a78",
   "metadata": {},
   "outputs": [
    {
     "data": {
      "text/plain": [
       "0"
      ]
     },
     "execution_count": 27,
     "metadata": {},
     "output_type": "execute_result"
    }
   ],
   "source": [
    "# this time it is added and given the default value\n",
    "d['one'] "
   ]
  },
  {
   "cell_type": "code",
   "execution_count": 29,
   "id": "cc25d901",
   "metadata": {},
   "outputs": [],
   "source": [
    "d['new']= 20"
   ]
  },
  {
   "cell_type": "code",
   "execution_count": 30,
   "id": "c965f4cd",
   "metadata": {},
   "outputs": [
    {
     "data": {
      "text/plain": [
       "defaultdict(<function __main__.<lambda>()>, {'one': 0, 'new': 20})"
      ]
     },
     "execution_count": 30,
     "metadata": {},
     "output_type": "execute_result"
    }
   ],
   "source": [
    "d"
   ]
  },
  {
   "cell_type": "code",
   "execution_count": null,
   "id": "c1cfee1e",
   "metadata": {},
   "outputs": [],
   "source": []
  },
  {
   "cell_type": "markdown",
   "id": "47af6051",
   "metadata": {},
   "source": [
    "### namedtuple"
   ]
  },
  {
   "cell_type": "code",
   "execution_count": 15,
   "id": "a57da273",
   "metadata": {},
   "outputs": [],
   "source": [
    "from collections import namedtuple"
   ]
  },
  {
   "cell_type": "code",
   "execution_count": 16,
   "id": "504dd7c3",
   "metadata": {},
   "outputs": [],
   "source": [
    "Dog = namedtuple('Dog',['age','breed','name'])"
   ]
  },
  {
   "cell_type": "code",
   "execution_count": 18,
   "id": "a5d6e9ce",
   "metadata": {},
   "outputs": [],
   "source": [
    "sam = Dog(5, 'Husky', 'Sam')"
   ]
  },
  {
   "cell_type": "code",
   "execution_count": 19,
   "id": "e4102976",
   "metadata": {},
   "outputs": [
    {
     "data": {
      "text/plain": [
       "Dog(age=5, breed='Husky', name='Sam')"
      ]
     },
     "execution_count": 19,
     "metadata": {},
     "output_type": "execute_result"
    }
   ],
   "source": [
    "sam"
   ]
  },
  {
   "cell_type": "code",
   "execution_count": 20,
   "id": "1019df88",
   "metadata": {},
   "outputs": [
    {
     "data": {
      "text/plain": [
       "5"
      ]
     },
     "execution_count": 20,
     "metadata": {},
     "output_type": "execute_result"
    }
   ],
   "source": [
    "sam.age"
   ]
  },
  {
   "cell_type": "code",
   "execution_count": 21,
   "id": "4d76642a",
   "metadata": {},
   "outputs": [
    {
     "data": {
      "text/plain": [
       "'Husky'"
      ]
     },
     "execution_count": 21,
     "metadata": {},
     "output_type": "execute_result"
    }
   ],
   "source": [
    "sam.breed"
   ]
  },
  {
   "cell_type": "code",
   "execution_count": null,
   "id": "17d53a90",
   "metadata": {},
   "outputs": [],
   "source": []
  }
 ],
 "metadata": {
  "kernelspec": {
   "display_name": "Python 3",
   "language": "python",
   "name": "python3"
  },
  "language_info": {
   "codemirror_mode": {
    "name": "ipython",
    "version": 3
   },
   "file_extension": ".py",
   "mimetype": "text/x-python",
   "name": "python",
   "nbconvert_exporter": "python",
   "pygments_lexer": "ipython3",
   "version": "3.8.8"
  }
 },
 "nbformat": 4,
 "nbformat_minor": 5
}
