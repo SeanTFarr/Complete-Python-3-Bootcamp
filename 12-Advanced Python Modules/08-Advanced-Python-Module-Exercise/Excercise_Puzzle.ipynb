{
 "cells": [
  {
   "cell_type": "markdown",
   "id": "683b494a",
   "metadata": {},
   "source": [
    "# Advanced Modules Excercise Puzzle"
   ]
  },
  {
   "cell_type": "markdown",
   "id": "f91dcaae",
   "metadata": {},
   "source": [
    "### Open Zipped file"
   ]
  },
  {
   "cell_type": "code",
   "execution_count": 1,
   "id": "9036fca3",
   "metadata": {},
   "outputs": [],
   "source": [
    "import shutil"
   ]
  },
  {
   "cell_type": "code",
   "execution_count": 2,
   "id": "d2585236",
   "metadata": {},
   "outputs": [],
   "source": [
    "shutil.unpack_archive('unzip_me_for_instructions.zip','instructions','zip')"
   ]
  },
  {
   "cell_type": "code",
   "execution_count": 5,
   "id": "750bba80",
   "metadata": {},
   "outputs": [
    {
     "name": "stdout",
     "output_type": "stream",
     "text": [
      "Good work on unzipping the file!\n",
      "You should now see 5 folders, each with a lot of random .txt files.\n",
      "Within one of these text files is a telephone number formated ###-###-#### \n",
      "Use the Python os module and regular expressions to iterate through each file, open it, and search for a telephone number.\n",
      "Good luck!\n"
     ]
    }
   ],
   "source": [
    "# to open text file:\n",
    "with open('instructions/extracted_content/Instructions.txt') as f:\n",
    "    content = f.read()\n",
    "    print(content)"
   ]
  },
  {
   "cell_type": "code",
   "execution_count": 3,
   "id": "afa54b6e",
   "metadata": {},
   "outputs": [],
   "source": [
    "import re\n",
    "import os"
   ]
  },
  {
   "cell_type": "code",
   "execution_count": 6,
   "id": "6f38f5e3",
   "metadata": {},
   "outputs": [],
   "source": [
    "pattern = r'\\d{3}-\\d{3}-\\d{4}'"
   ]
  },
  {
   "cell_type": "code",
   "execution_count": 9,
   "id": "ef00f164",
   "metadata": {},
   "outputs": [],
   "source": [
    "results=[]"
   ]
  },
  {
   "cell_type": "code",
   "execution_count": 11,
   "id": "53a15fb3",
   "metadata": {},
   "outputs": [],
   "source": [
    "# In order to apply this regex to multiple text files , create a function that takes in a file and your regex pattern, \n",
    "# opens the file, searches for your pattern, and returns back any match.\n",
    "def phone_hunt(file, pattern = r'\\d{3}-\\d{3}-\\d{4}'):\n",
    "    f = open(file,\"r\")\n",
    "    text = f.read()\n",
    "    \n",
    "    if re.search(pattern,text):\n",
    "        return re.search(pattern,text)\n",
    "    else:\n",
    "        return ''\n",
    "    "
   ]
  },
  {
   "cell_type": "code",
   "execution_count": 15,
   "id": "fe5e649d",
   "metadata": {},
   "outputs": [],
   "source": [
    "# Use the os module to walk through all the folders and files and apply your function to each file.\n",
    "for folder , sub_folders , files in os.walk(os.getcwd()+'\\\\instructions\\\\extracted_content'):\n",
    "    \n",
    "\n",
    "    for f in files:\n",
    "        full_path = folder +'\\\\'+f\n",
    "        #print(full_path)\n",
    "        \n",
    "        results.append(phone_hunt(full_path))\n",
    "        "
   ]
  },
  {
   "cell_type": "code",
   "execution_count": 13,
   "id": "f04cbdda",
   "metadata": {},
   "outputs": [
    {
     "name": "stdout",
     "output_type": "stream",
     "text": [
      "719-266-2837\n"
     ]
    }
   ],
   "source": [
    "for r in results:\n",
    "    if r !='':\n",
    "        print(r.group())"
   ]
  },
  {
   "cell_type": "code",
   "execution_count": null,
   "id": "2cc9d35e",
   "metadata": {},
   "outputs": [],
   "source": []
  }
 ],
 "metadata": {
  "kernelspec": {
   "display_name": "Python 3",
   "language": "python",
   "name": "python3"
  },
  "language_info": {
   "codemirror_mode": {
    "name": "ipython",
    "version": 3
   },
   "file_extension": ".py",
   "mimetype": "text/x-python",
   "name": "python",
   "nbconvert_exporter": "python",
   "pygments_lexer": "ipython3",
   "version": "3.8.8"
  }
 },
 "nbformat": 4,
 "nbformat_minor": 5
}
