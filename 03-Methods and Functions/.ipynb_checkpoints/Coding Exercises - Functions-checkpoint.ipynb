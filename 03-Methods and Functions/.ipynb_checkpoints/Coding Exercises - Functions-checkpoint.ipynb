{
 "cells": [
  {
   "cell_type": "markdown",
   "id": "34f8eff4",
   "metadata": {},
   "source": [
    "# Function Coding Exercises - Section 6"
   ]
  },
  {
   "cell_type": "markdown",
   "id": "a3aaf473",
   "metadata": {},
   "source": [
    "## Functions #1: print Hello World\n",
    "Write a function called myfunc that prints the string 'Hello World'."
   ]
  },
  {
   "cell_type": "code",
   "execution_count": 1,
   "id": "5a19b874",
   "metadata": {},
   "outputs": [],
   "source": [
    "def myfunc():\n",
    "    print('Hello World')"
   ]
  },
  {
   "cell_type": "code",
   "execution_count": 2,
   "id": "25f2d16c",
   "metadata": {},
   "outputs": [
    {
     "name": "stdout",
     "output_type": "stream",
     "text": [
      "Hello World\n"
     ]
    }
   ],
   "source": [
    "myfunc()"
   ]
  },
  {
   "cell_type": "markdown",
   "id": "93294ed9",
   "metadata": {},
   "source": [
    "## Functions #2: print Hello Name\n",
    "Define a function called myfunc that takes in a name, and prints 'Hello Name' "
   ]
  },
  {
   "cell_type": "code",
   "execution_count": 3,
   "id": "0bde99fd",
   "metadata": {},
   "outputs": [],
   "source": [
    "def myfunc(name):\n",
    "    print('Hello {}'.format(name))"
   ]
  },
  {
   "cell_type": "code",
   "execution_count": 6,
   "id": "fe4e24bb",
   "metadata": {},
   "outputs": [
    {
     "name": "stdout",
     "output_type": "stream",
     "text": [
      "Hello Sean\n"
     ]
    }
   ],
   "source": [
    "myfunc('Sean')"
   ]
  },
  {
   "cell_type": "markdown",
   "id": "a48c688e",
   "metadata": {},
   "source": [
    "## Functions #3 - simple Boolean\n",
    "Define a function called myfunc that takes in a Boolean value (True or False). If True, return 'Hello', and if False, return 'Goodbye'"
   ]
  },
  {
   "cell_type": "code",
   "execution_count": 7,
   "id": "a5879f3a",
   "metadata": {},
   "outputs": [],
   "source": [
    "def myfunc(x):\n",
    "    if x == True:\n",
    "        return 'Hello'\n",
    "    elif x == False:\n",
    "        return 'Goodbye'"
   ]
  },
  {
   "cell_type": "code",
   "execution_count": 8,
   "id": "67cc9177",
   "metadata": {},
   "outputs": [
    {
     "data": {
      "text/plain": [
       "'Hello'"
      ]
     },
     "execution_count": 8,
     "metadata": {},
     "output_type": "execute_result"
    }
   ],
   "source": [
    "myfunc(True)"
   ]
  },
  {
   "cell_type": "markdown",
   "id": "d28af7c1",
   "metadata": {},
   "source": [
    "## Functions #4 - using Booleans\n",
    "Define a function called myfunc that takes three arguments, x, y and z.\n",
    "If z is True, return x.  If z is False, return y."
   ]
  },
  {
   "cell_type": "code",
   "execution_count": 9,
   "id": "79b0dbf9",
   "metadata": {},
   "outputs": [],
   "source": [
    "def myfunc(x,y,z):\n",
    "    if z == True:\n",
    "        return x\n",
    "    else:\n",
    "        return y"
   ]
  },
  {
   "cell_type": "code",
   "execution_count": 10,
   "id": "14946fbf",
   "metadata": {},
   "outputs": [
    {
     "data": {
      "text/plain": [
       "'Goodbye'"
      ]
     },
     "execution_count": 10,
     "metadata": {},
     "output_type": "execute_result"
    }
   ],
   "source": [
    "myfunc('Hello', 'Goodbye', False)"
   ]
  },
  {
   "cell_type": "markdown",
   "id": "8c897e29",
   "metadata": {},
   "source": [
    "## Functions #5: simple math\n",
    "Define a function called myfunc that takes in two arguments and returns their sum."
   ]
  },
  {
   "cell_type": "code",
   "execution_count": 11,
   "id": "7601d4a3",
   "metadata": {},
   "outputs": [],
   "source": [
    "def myfunc(a,b):\n",
    "    return a + b"
   ]
  },
  {
   "cell_type": "code",
   "execution_count": 13,
   "id": "a04bf695",
   "metadata": {},
   "outputs": [
    {
     "data": {
      "text/plain": [
       "6"
      ]
     },
     "execution_count": 13,
     "metadata": {},
     "output_type": "execute_result"
    }
   ],
   "source": [
    "myfunc(2,4)"
   ]
  },
  {
   "cell_type": "markdown",
   "id": "828781e5",
   "metadata": {},
   "source": [
    "## Functions #6: is even\n",
    "Define a function called is_even that takes in one argument, and returns True if the passed-in value is even, False if it is not."
   ]
  },
  {
   "cell_type": "code",
   "execution_count": 14,
   "id": "37dcf844",
   "metadata": {},
   "outputs": [],
   "source": [
    "def is_even(n):\n",
    "    if n % 2 == 0:\n",
    "        return True\n",
    "    else:\n",
    "        return False"
   ]
  },
  {
   "cell_type": "code",
   "execution_count": 16,
   "id": "5fcd795f",
   "metadata": {},
   "outputs": [
    {
     "data": {
      "text/plain": [
       "False"
      ]
     },
     "execution_count": 16,
     "metadata": {},
     "output_type": "execute_result"
    }
   ],
   "source": [
    "is_even(5)"
   ]
  },
  {
   "cell_type": "markdown",
   "id": "261d57b6",
   "metadata": {},
   "source": [
    "## Functions #7: is greater\n",
    "Define a function called is_greater that takes in two arguments, and returns True if the first value is greater than the second, False if it is less than or equal to the second."
   ]
  },
  {
   "cell_type": "code",
   "execution_count": 17,
   "id": "8eb768e8",
   "metadata": {},
   "outputs": [],
   "source": [
    "def is_greater(c,d):\n",
    "    if c > d:\n",
    "        return True\n",
    "    else:\n",
    "        return False"
   ]
  },
  {
   "cell_type": "code",
   "execution_count": 18,
   "id": "51a41dc3",
   "metadata": {},
   "outputs": [
    {
     "data": {
      "text/plain": [
       "True"
      ]
     },
     "execution_count": 18,
     "metadata": {},
     "output_type": "execute_result"
    }
   ],
   "source": [
    "is_greater(4,3)"
   ]
  },
  {
   "cell_type": "markdown",
   "id": "a9e76ab2",
   "metadata": {},
   "source": [
    "## Functions #8: *args\n",
    "Define a function called myfunc that takes in an arbitrary number of arguments, and returns the sum of those arguments."
   ]
  },
  {
   "cell_type": "code",
   "execution_count": 19,
   "id": "d98e1019",
   "metadata": {},
   "outputs": [],
   "source": [
    "def myfunc(*args):\n",
    "    return sum(args)"
   ]
  },
  {
   "cell_type": "code",
   "execution_count": 20,
   "id": "ff8175a4",
   "metadata": {},
   "outputs": [
    {
     "data": {
      "text/plain": [
       "9"
      ]
     },
     "execution_count": 20,
     "metadata": {},
     "output_type": "execute_result"
    }
   ],
   "source": [
    "myfunc(2,3,4)"
   ]
  },
  {
   "cell_type": "code",
   "execution_count": 21,
   "id": "f52ab2a7",
   "metadata": {},
   "outputs": [
    {
     "data": {
      "text/plain": [
       "49"
      ]
     },
     "execution_count": 21,
     "metadata": {},
     "output_type": "execute_result"
    }
   ],
   "source": [
    "myfunc(4,8,9,23,5)"
   ]
  },
  {
   "cell_type": "markdown",
   "id": "5e5566b6",
   "metadata": {},
   "source": [
    "## Functions #9: pick evens\n",
    "Define a function called myfunc that takes in an arbitrary number of arguments, and returns a list containing only those arguments that are even."
   ]
  },
  {
   "cell_type": "code",
   "execution_count": 22,
   "id": "d4fa3b71",
   "metadata": {},
   "outputs": [],
   "source": [
    "def myfunc(*args):\n",
    "    mylist =[]\n",
    "    for num in args:\n",
    "        if num % 2 ==0:\n",
    "            mylist.append(num)\n",
    "    return mylist"
   ]
  },
  {
   "cell_type": "code",
   "execution_count": 23,
   "id": "49e9dd9b",
   "metadata": {},
   "outputs": [
    {
     "data": {
      "text/plain": [
       "[4, 6, 12]"
      ]
     },
     "execution_count": 23,
     "metadata": {},
     "output_type": "execute_result"
    }
   ],
   "source": [
    "myfunc(3,4,6,7,9,12)"
   ]
  },
  {
   "cell_type": "markdown",
   "id": "e9fcfb42",
   "metadata": {},
   "source": [
    "## Functions #10: skyline\n",
    "Define a function called myfunc that takes in a string, and returns a matching string where every even letter is uppercase, and every odd letter is lowercase. Assume that the incoming string only contains letters, and don't worry about numbers, spaces or punctuation. The output string can start with either an uppercase or lowercase letter, so long as letters alternate throughout the string."
   ]
  },
  {
   "cell_type": "code",
   "execution_count": 24,
   "id": "f1c2dbc0",
   "metadata": {},
   "outputs": [],
   "source": [
    "def myfunc(x):\n",
    "    out = []\n",
    "    for i in range(len(x)):\n",
    "        if i % 2 ==0:\n",
    "            out.append(x[i].lower())\n",
    "        else:\n",
    "            out.append(x[i].upper())\n",
    "    return ''.join(out)"
   ]
  },
  {
   "cell_type": "code",
   "execution_count": 25,
   "id": "e7b623c9",
   "metadata": {},
   "outputs": [
    {
     "data": {
      "text/plain": [
       "'aNtHrOpOmOrPhIsM'"
      ]
     },
     "execution_count": 25,
     "metadata": {},
     "output_type": "execute_result"
    }
   ],
   "source": [
    "myfunc('Anthropomorphism')"
   ]
  },
  {
   "cell_type": "code",
   "execution_count": 26,
   "id": "e89328d8",
   "metadata": {},
   "outputs": [
    {
     "data": {
      "text/plain": [
       "'tHe uNiTeD StAtEs oF AmErIcA'"
      ]
     },
     "execution_count": 26,
     "metadata": {},
     "output_type": "execute_result"
    }
   ],
   "source": [
    "myfunc('The United States Of America')"
   ]
  }
 ],
 "metadata": {
  "kernelspec": {
   "display_name": "Python 3",
   "language": "python",
   "name": "python3"
  },
  "language_info": {
   "codemirror_mode": {
    "name": "ipython",
    "version": 3
   },
   "file_extension": ".py",
   "mimetype": "text/x-python",
   "name": "python",
   "nbconvert_exporter": "python",
   "pygments_lexer": "ipython3",
   "version": "3.8.8"
  }
 },
 "nbformat": 4,
 "nbformat_minor": 5
}
